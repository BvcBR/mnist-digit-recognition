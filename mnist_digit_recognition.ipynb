{
 "cells": [
  {
   "cell_type": "code",
   "execution_count": 21,
   "id": "d198bc10",
   "metadata": {
    "scrolled": true
   },
   "outputs": [
    {
     "name": "stdout",
     "output_type": "stream",
     "text": [
      "1 Epoch's\n",
      "0.5376285314559937\n",
      "2 Epoch's\n",
      "0.11607526242733002\n",
      "3 Epoch's\n",
      "0.01244540885090828\n"
     ]
    }
   ],
   "source": [
    "import torch\n",
    "from torch.utils.data import DataLoader\n",
    "from torchvision import datasets\n",
    "from torchvision.transforms import ToTensor\n",
    "from torch import nn\n",
    "import torch.optim as optim  # Import optimizer module\n",
    "\n",
    "# Define the device\n",
    "device = torch.device(\"cuda\" if torch.cuda.is_available() else \"cpu\")\n",
    "\n",
    "# Load the datasets\n",
    "training_data = datasets.MNIST(\n",
    "    root=\"data\",\n",
    "    train=True,\n",
    "    download=True,\n",
    "    transform=ToTensor(),\n",
    "    target_transform=lambda y: torch.tensor(y, dtype=torch.long)  # Convert label to integer tensor\n",
    ")\n",
    "\n",
    "test_data = datasets.MNIST(\n",
    "    root=\"data\",\n",
    "    train=False,\n",
    "    download=True,\n",
    "    transform=ToTensor(),\n",
    "    target_transform=lambda y: torch.tensor(y, dtype=torch.long)  # Convert label to integer tensor\n",
    ")\n",
    "\n",
    "# Define your neural network\n",
    "class MyFirstNeuralNetwork(nn.Module):\n",
    "    def __init__(self):\n",
    "        super(MyFirstNeuralNetwork, self).__init__()\n",
    "        self.flatten = nn.Flatten()\n",
    "       # Define a sequential container of layers.\n",
    "        self.linear_relu_stack = nn.Sequential(\n",
    "            nn.Linear(28*28, 512),  # First linear layer: input features from 28*28 to 512 hidden units.\n",
    "            nn.ReLU(),              # Apply ReLU activation function to add non-linearity.\n",
    "            nn.Linear(512, 512),    # Second linear layer: 512 hidden units to 512 hidden units.\n",
    "            nn.ReLU(),              # Apply ReLU activation function again.\n",
    "            nn.Linear(512, 10),     # Third linear layer: 512 hidden units to 10 output classes.\n",
    ")\n",
    "\n",
    "    def forward(self, x):\n",
    "        x = self.flatten(x)\n",
    "        logits = self.linear_relu_stack(x)\n",
    "        return logits\n",
    "\n",
    "# Create an instance of the model and move it to the appropriate device\n",
    "model = MyFirstNeuralNetwork().to(device)\n",
    "\n",
    "# Define the optimizer, I chose the Stochastic Gradient Descent\n",
    "optimizer = optim.SGD(model.parameters(), lr=0.001)\n",
    "# Create data loaders\n",
    "train_loader = DataLoader(training_data, batch_size=64, shuffle=True)\n",
    "test_loader = DataLoader(test_data, batch_size=64, shuffle=False)\n",
    "\n",
    "# Define the loss function\n",
    "loss_fn = nn.CrossEntropyLoss()\n",
    "\n",
    "# Define the number of epochs\n",
    "epochs = 3\n",
    "\n",
    "# Training loop\n",
    "for e in range(1,epochs + 1):\n",
    "    print(f\"{e} Epoch's\")\n",
    "    lossi = 0.0\n",
    "    \n",
    "    for input, label in train_loader:\n",
    "        input, label = input.to(device), label.to(device)  # Move input and labels to device\n",
    "        logits = model(input)\n",
    "        loss = loss_fn(logits, label)  # Calculate the loss\n",
    "        loss.backward()  # Backpropagation\n",
    "        optimizer.step()  # Update weights\n",
    "        lossi = loss.item()\n",
    "    print(lossi)"
   ]
  },
  {
   "cell_type": "code",
   "execution_count": 22,
   "id": "2364b6ae",
   "metadata": {},
   "outputs": [
    {
     "name": "stdout",
     "output_type": "stream",
     "text": [
      "Accuracy on the test set: 94.09%\n"
     ]
    }
   ],
   "source": [
    "# Evaluation loop\n",
    "model.eval()  # Set the model to evaluation mode\n",
    "correct = 0\n",
    "total = 0\n",
    "with torch.no_grad():  # Disable gradient calculation during evaluation\n",
    "    for input, label in test_loader:\n",
    "        input, label = input.to(device), label.to(device)  # Move input and labels to device\n",
    "        logits = model(input)\n",
    "        _, predicted = torch.max(logits, 1)  # Get the predicted class with highest probability\n",
    "        total += label.size(0)  # Increment the total number of samples\n",
    "        correct += (predicted == label).sum().item()  # Increment the number of correctly predicted samples\n",
    "\n",
    "print(f\"Accuracy on the test set: {(correct / total) * 100:.2f}%\")"
   ]
  },
  {
   "cell_type": "code",
   "execution_count": 23,
   "id": "caeaf22e",
   "metadata": {},
   "outputs": [
    {
     "data": {
      "image/png": "[encoded data removed]",
      "text/plain": [
       "<Figure size 640x480 with 1 Axes>"
      ]
     },
     "metadata": {},
     "output_type": "display_data"
    },
    {
     "name": "stdout",
     "output_type": "stream",
     "text": [
      "Correct label for sample: 9\n",
      "Predicted number: 9\n"
     ]
    }
   ],
   "source": [
    "#Sampling a prediction on a single digit\n",
    "import random\n",
    "import matplotlib.pyplot as plt\n",
    "random_number = random.randint(1, 1000)\n",
    "image, label = test_data[random_number]\n",
    "image = image.squeeze().numpy()\n",
    "plt.imshow(image, cmap='gray')\n",
    "plt.title(f'Image')\n",
    "plt.axis('off')\n",
    "plt.show()\n",
    "\n",
    "X = test_data[random_number][0]\n",
    "logits = model(X)\n",
    "pred_probab = nn.Softmax(dim=1)(logits)\n",
    "y_pred = pred_probab.argmax(1)\n",
    "print(f\"Correct label for sample: {label}\")\n",
    "print(f\"Predicted number: {y_pred.data.item()}\")"
   ]
  },
  {
   "cell_type": "code",
   "execution_count": null,
   "id": "281b71be",
   "metadata": {},
   "outputs": [],
   "source": []
  },
  {
   "cell_type": "code",
   "execution_count": null,
   "id": "ab54af0c",
   "metadata": {},
   "outputs": [],
   "source": []
  }
 ],
 "metadata": {
  "kernelspec": {
   "display_name": "Python 3 (ipykernel)",
   "language": "python",
   "name": "python3"
  },
  "language_info": {
   "codemirror_mode": {
    "name": "ipython",
    "version": 3
   },
   "file_extension": ".py",
   "mimetype": "text/x-python",
   "name": "python",
   "nbconvert_exporter": "python",
   "pygments_lexer": "ipython3",
   "version": "3.11.4"
  }
 },
 "nbformat": 4,
 "nbformat_minor": 5
}
